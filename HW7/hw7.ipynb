{
 "cells": [
  {
   "cell_type": "code",
   "execution_count": 27,
   "metadata": {},
   "outputs": [
    {
     "name": "stdout",
     "output_type": "stream",
     "text": [
      "Evaluating RMSE, MAE of algorithm SVD on 3 split(s).\n",
      "\n",
      "                  Fold 1  Fold 2  Fold 3  Mean    Std     \n",
      "RMSE (testset)    0.9480  0.9392  0.9518  0.9463  0.0053  \n",
      "MAE (testset)     0.7480  0.7420  0.7510  0.7470  0.0037  \n",
      "Fit time          2.94    2.93    2.93    2.93    0.00    \n",
      "Test time         0.25    0.21    0.22    0.23    0.02    \n"
     ]
    },
    {
     "data": {
      "text/plain": [
       "{'test_rmse': array([0.94796684, 0.9391688 , 0.95181025]),\n",
       " 'test_mae': array([0.74797143, 0.74204123, 0.75101422]),\n",
       " 'fit_time': (2.940171718597412, 2.93099045753479, 2.9332072734832764),\n",
       " 'test_time': (0.24822592735290527, 0.21219348907470703, 0.2153635025024414)}"
      ]
     },
     "execution_count": 27,
     "metadata": {},
     "output_type": "execute_result"
    }
   ],
   "source": [
    "# number 1-5\n",
    "\n",
    "\n",
    "\n",
    "import numpy as np\n",
    "from surprise import SVD\n",
    "from surprise import Dataset \n",
    "from surprise import Reader \n",
    "from surprise.model_selection import cross_validate\n",
    "from sklearn.model_selection import KFold\n",
    "from sklearn.metrics import mean_absolute_error\n",
    "from math import sqrt\n",
    "import os \n",
    " \n",
    "\n",
    "file_path = os.path.expanduser('restaurant_ratings.txt') \n",
    "reader = Reader(line_format='user item rating timestamp', sep='\\t') \n",
    "data = Dataset.load_from_file(file_path, reader=reader) \n",
    "\n",
    "my_seed = 0\n",
    "random.seed(my_seed)\n",
    "np.random.seed(my_seed)\n",
    "kfold = KFold(n_splits = 3, random_state = 20, shuffle = True)\n",
    "algo = SVD()\n",
    "\n",
    "cross_validate(algo, data, measures=['RMSE', 'MAE'], cv=3, verbose=True)\n",
    "\n",
    "# f = open(file_path)\n",
    "\n",
    "# print(data)"
   ]
  },
  {
   "cell_type": "code",
   "execution_count": 29,
   "metadata": {},
   "outputs": [
    {
     "name": "stdout",
     "output_type": "stream",
     "text": [
      "Evaluating RMSE, MAE of algorithm SVD on 3 split(s).\n",
      "\n",
      "                  Fold 1  Fold 2  Fold 3  Mean    Std     \n",
      "RMSE (testset)    0.9681  0.9617  0.9729  0.9676  0.0046  \n",
      "MAE (testset)     0.7633  0.7583  0.7670  0.7629  0.0036  \n",
      "Fit time          2.92    2.95    2.95    2.94    0.01    \n",
      "Test time         0.20    0.18    0.18    0.19    0.01    \n"
     ]
    },
    {
     "data": {
      "text/plain": [
       "{'test_rmse': array([0.96814573, 0.96166174, 0.97285295]),\n",
       " 'test_mae': array([0.76332714, 0.75828476, 0.76703258]),\n",
       " 'fit_time': (2.917660713195801, 2.9456770420074463, 2.9466795921325684),\n",
       " 'test_time': (0.19617938995361328, 0.18216586112976074, 0.1831667423248291)}"
      ]
     },
     "execution_count": 29,
     "metadata": {},
     "output_type": "execute_result"
    }
   ],
   "source": [
    "# question 6\n",
    "\n",
    "algo = SVD(biased=False)\n",
    "\n",
    "cross_validate(algo, data, measures=['RMSE', 'MAE'], cv=3, verbose=True)\n"
   ]
  },
  {
   "cell_type": "code",
   "execution_count": 30,
   "metadata": {},
   "outputs": [
    {
     "name": "stdout",
     "output_type": "stream",
     "text": [
      "Evaluating RMSE, MAE of algorithm NMF on 3 split(s).\n",
      "\n",
      "                  Fold 1  Fold 2  Fold 3  Mean    Std     \n",
      "RMSE (testset)    0.9769  0.9672  0.9808  0.9749  0.0057  \n",
      "MAE (testset)     0.7671  0.7593  0.7713  0.7659  0.0050  \n",
      "Fit time          3.14    3.18    3.23    3.19    0.04    \n",
      "Test time         0.18    0.18    0.18    0.18    0.00    \n"
     ]
    },
    {
     "data": {
      "text/plain": [
       "{'test_rmse': array([0.97692458, 0.96717086, 0.98075059]),\n",
       " 'test_mae': array([0.76714382, 0.75932547, 0.77131368]),\n",
       " 'fit_time': (3.142864942550659, 3.178889513015747, 3.2349705696105957),\n",
       " 'test_time': (0.17916321754455566, 0.18016386032104492, 0.17916345596313477)}"
      ]
     },
     "execution_count": 30,
     "metadata": {},
     "output_type": "execute_result"
    }
   ],
   "source": [
    "# question 7\n",
    "\n",
    "algo = NMF()\n",
    "\n",
    "cross_validate(algo, data, measures=['RMSE', 'MAE'], cv=3, verbose=True)\n",
    "\n"
   ]
  },
  {
   "cell_type": "code",
   "execution_count": 32,
   "metadata": {},
   "outputs": [
    {
     "name": "stdout",
     "output_type": "stream",
     "text": [
      "Computing the msd similarity matrix...\n",
      "Done computing similarity matrix.\n",
      "Computing the msd similarity matrix...\n",
      "Done computing similarity matrix.\n",
      "Computing the msd similarity matrix...\n",
      "Done computing similarity matrix.\n",
      "Evaluating RMSE, MAE of algorithm KNNBasic on 3 split(s).\n",
      "\n",
      "                  Fold 1  Fold 2  Fold 3  Mean    Std     \n",
      "RMSE (testset)    0.9941  0.9832  0.9926  0.9899  0.0048  \n",
      "MAE (testset)     0.7841  0.7760  0.7857  0.7820  0.0043  \n",
      "Fit time          0.21    0.22    0.22    0.22    0.00    \n",
      "Test time         3.56    3.65    3.66    3.62    0.04    \n"
     ]
    },
    {
     "data": {
      "text/plain": [
       "{'test_rmse': array([0.99408404, 0.98316998, 0.99255065]),\n",
       " 'test_mae': array([0.78412965, 0.77598704, 0.78574437]),\n",
       " 'fit_time': (0.21319365501403809, 0.21919870376586914, 0.22420477867126465),\n",
       " 'test_time': (3.563239097595215, 3.649317979812622, 3.656827926635742)}"
      ]
     },
     "execution_count": 32,
     "metadata": {},
     "output_type": "execute_result"
    }
   ],
   "source": [
    "# question 8\n",
    "algo = KNNBasic(sim_options={\n",
    "        'user_based': True})\n",
    "\n",
    "cross_validate(algo, data, measures=['RMSE', 'MAE'], cv=3, verbose=True)\n",
    "\n"
   ]
  },
  {
   "cell_type": "code",
   "execution_count": 33,
   "metadata": {},
   "outputs": [
    {
     "name": "stdout",
     "output_type": "stream",
     "text": [
      "Computing the msd similarity matrix...\n",
      "Done computing similarity matrix.\n",
      "Computing the msd similarity matrix...\n",
      "Done computing similarity matrix.\n",
      "Computing the msd similarity matrix...\n",
      "Done computing similarity matrix.\n",
      "Evaluating RMSE, MAE of algorithm KNNBasic on 3 split(s).\n",
      "\n",
      "                  Fold 1  Fold 2  Fold 3  Mean    Std     \n",
      "RMSE (testset)    0.9872  0.9787  0.9937  0.9865  0.0061  \n",
      "MAE (testset)     0.7813  0.7754  0.7863  0.7810  0.0045  \n",
      "Fit time          0.35    0.35    0.34    0.35    0.00    \n",
      "Test time         4.17    4.24    4.24    4.22    0.03    \n"
     ]
    },
    {
     "data": {
      "text/plain": [
       "{'test_rmse': array([0.98724644, 0.97868256, 0.99365568]),\n",
       " 'test_mae': array([0.7813494 , 0.77542588, 0.78631378]),\n",
       " 'fit_time': (0.3493175506591797, 0.353320837020874, 0.3443131446838379),\n",
       " 'test_time': (4.173795461654663, 4.244858741760254, 4.23735785484314)}"
      ]
     },
     "execution_count": 33,
     "metadata": {},
     "output_type": "execute_result"
    }
   ],
   "source": [
    "# question 9\n",
    "# IBCFpearson():\n",
    "algo = KNNBasic(sim_options={\n",
    "        'user_based': False})\n",
    "\n",
    "cross_validate(algo, data, measures=['RMSE', 'MAE'], cv=3, verbose=True)"
   ]
  },
  {
   "cell_type": "code",
   "execution_count": 34,
   "metadata": {
    "scrolled": true
   },
   "outputs": [
    {
     "name": "stdout",
     "output_type": "stream",
     "text": [
      "Computing the pearson similarity matrix...\n",
      "Done computing similarity matrix.\n",
      "Computing the pearson similarity matrix...\n",
      "Done computing similarity matrix.\n",
      "Computing the pearson similarity matrix...\n",
      "Done computing similarity matrix.\n",
      "Evaluating RMSE, MAE of algorithm KNNBasic on 3 split(s).\n",
      "\n",
      "                  Fold 1  Fold 2  Fold 3  Mean    Std     \n",
      "RMSE (testset)    1.0206  1.0213  1.0215  1.0211  0.0004  \n",
      "MAE (testset)     0.8133  0.8092  0.8092  0.8106  0.0019  \n",
      "Fit time          1.33    1.35    1.38    1.36    0.02    \n",
      "Test time         3.61    3.63    3.57    3.60    0.02    \n"
     ]
    },
    {
     "data": {
      "text/plain": [
       "{'test_rmse': array([1.02060939, 1.02131505, 1.0214826 ]),\n",
       " 'test_mae': array([0.81327637, 0.80921948, 0.80921223]),\n",
       " 'fit_time': (1.334796667098999, 1.3467411994934082, 1.383882999420166),\n",
       " 'test_time': (3.6082348823547363, 3.626694440841675, 3.5748372077941895)}"
      ]
     },
     "execution_count": 34,
     "metadata": {},
     "output_type": "execute_result"
    }
   ],
   "source": [
    "# question 10\n",
    "# UBCFpearson():\n",
    "\n",
    "algo = KNNBasic(sim_options={\n",
    "        'name': 'pearson',\n",
    "        'user_based': True\n",
    "    })\n",
    "\n",
    "cross_validate(algo, data, measures=['RMSE', 'MAE'], cv=3, verbose=True)"
   ]
  },
  {
   "cell_type": "code",
   "execution_count": 43,
   "metadata": {},
   "outputs": [
    {
     "ename": "ValueError",
     "evalue": "Incorrect value for n_splits=100000. Must be >=2 and less than the number of ratings",
     "output_type": "error",
     "traceback": [
      "\u001b[1;31m---------------------------------------------------------------------------\u001b[0m",
      "\u001b[1;31mEmpty\u001b[0m                                     Traceback (most recent call last)",
      "\u001b[1;32m~\\anaconda3\\lib\\site-packages\\joblib\\parallel.py\u001b[0m in \u001b[0;36mdispatch_one_batch\u001b[1;34m(self, iterator)\u001b[0m\n\u001b[0;32m    796\u001b[0m             \u001b[1;32mtry\u001b[0m\u001b[1;33m:\u001b[0m\u001b[1;33m\u001b[0m\u001b[1;33m\u001b[0m\u001b[0m\n\u001b[1;32m--> 797\u001b[1;33m                 \u001b[0mtasks\u001b[0m \u001b[1;33m=\u001b[0m \u001b[0mself\u001b[0m\u001b[1;33m.\u001b[0m\u001b[0m_ready_batches\u001b[0m\u001b[1;33m.\u001b[0m\u001b[0mget\u001b[0m\u001b[1;33m(\u001b[0m\u001b[0mblock\u001b[0m\u001b[1;33m=\u001b[0m\u001b[1;32mFalse\u001b[0m\u001b[1;33m)\u001b[0m\u001b[1;33m\u001b[0m\u001b[1;33m\u001b[0m\u001b[0m\n\u001b[0m\u001b[0;32m    798\u001b[0m             \u001b[1;32mexcept\u001b[0m \u001b[0mqueue\u001b[0m\u001b[1;33m.\u001b[0m\u001b[0mEmpty\u001b[0m\u001b[1;33m:\u001b[0m\u001b[1;33m\u001b[0m\u001b[1;33m\u001b[0m\u001b[0m\n",
      "\u001b[1;32m~\\anaconda3\\lib\\queue.py\u001b[0m in \u001b[0;36mget\u001b[1;34m(self, block, timeout)\u001b[0m\n\u001b[0;32m    166\u001b[0m                 \u001b[1;32mif\u001b[0m \u001b[1;32mnot\u001b[0m \u001b[0mself\u001b[0m\u001b[1;33m.\u001b[0m\u001b[0m_qsize\u001b[0m\u001b[1;33m(\u001b[0m\u001b[1;33m)\u001b[0m\u001b[1;33m:\u001b[0m\u001b[1;33m\u001b[0m\u001b[1;33m\u001b[0m\u001b[0m\n\u001b[1;32m--> 167\u001b[1;33m                     \u001b[1;32mraise\u001b[0m \u001b[0mEmpty\u001b[0m\u001b[1;33m\u001b[0m\u001b[1;33m\u001b[0m\u001b[0m\n\u001b[0m\u001b[0;32m    168\u001b[0m             \u001b[1;32melif\u001b[0m \u001b[0mtimeout\u001b[0m \u001b[1;32mis\u001b[0m \u001b[1;32mNone\u001b[0m\u001b[1;33m:\u001b[0m\u001b[1;33m\u001b[0m\u001b[1;33m\u001b[0m\u001b[0m\n",
      "\u001b[1;31mEmpty\u001b[0m: ",
      "\nDuring handling of the above exception, another exception occurred:\n",
      "\u001b[1;31mValueError\u001b[0m                                Traceback (most recent call last)",
      "\u001b[1;32m<ipython-input-43-7bba513bfee6>\u001b[0m in \u001b[0;36m<module>\u001b[1;34m\u001b[0m\n\u001b[0;32m      2\u001b[0m \u001b[1;31m# SVD\u001b[0m\u001b[1;33m\u001b[0m\u001b[1;33m\u001b[0m\u001b[1;33m\u001b[0m\u001b[0m\n\u001b[0;32m      3\u001b[0m \u001b[0malgo\u001b[0m \u001b[1;33m=\u001b[0m \u001b[0mSVD\u001b[0m\u001b[1;33m(\u001b[0m\u001b[1;33m)\u001b[0m\u001b[1;33m\u001b[0m\u001b[1;33m\u001b[0m\u001b[0m\n\u001b[1;32m----> 4\u001b[1;33m \u001b[0mcross_validate\u001b[0m\u001b[1;33m(\u001b[0m\u001b[0malgo\u001b[0m\u001b[1;33m,\u001b[0m \u001b[0mdata\u001b[0m\u001b[1;33m,\u001b[0m \u001b[0mmeasures\u001b[0m\u001b[1;33m=\u001b[0m\u001b[1;33m[\u001b[0m\u001b[1;34m'RMSE'\u001b[0m\u001b[1;33m,\u001b[0m \u001b[1;34m'MAE'\u001b[0m\u001b[1;33m]\u001b[0m\u001b[1;33m,\u001b[0m \u001b[0mcv\u001b[0m\u001b[1;33m=\u001b[0m\u001b[1;36m1\u001b[0m\u001b[1;33m,\u001b[0m \u001b[0mverbose\u001b[0m\u001b[1;33m=\u001b[0m\u001b[1;32mTrue\u001b[0m\u001b[1;33m)\u001b[0m\u001b[1;33m\u001b[0m\u001b[1;33m\u001b[0m\u001b[0m\n\u001b[0m\u001b[0;32m      5\u001b[0m \u001b[1;33m\u001b[0m\u001b[0m\n\u001b[0;32m      6\u001b[0m \u001b[1;31m# PMF\u001b[0m\u001b[1;33m\u001b[0m\u001b[1;33m\u001b[0m\u001b[1;33m\u001b[0m\u001b[0m\n",
      "\u001b[1;32m~\\anaconda3\\lib\\site-packages\\surprise\\model_selection\\validation.py\u001b[0m in \u001b[0;36mcross_validate\u001b[1;34m(algo, data, measures, cv, return_train_measures, n_jobs, pre_dispatch, verbose)\u001b[0m\n\u001b[0;32m     99\u001b[0m                                            return_train_measures)\n\u001b[0;32m    100\u001b[0m                     for (trainset, testset) in cv.split(data))\n\u001b[1;32m--> 101\u001b[1;33m     \u001b[0mout\u001b[0m \u001b[1;33m=\u001b[0m \u001b[0mParallel\u001b[0m\u001b[1;33m(\u001b[0m\u001b[0mn_jobs\u001b[0m\u001b[1;33m=\u001b[0m\u001b[0mn_jobs\u001b[0m\u001b[1;33m,\u001b[0m \u001b[0mpre_dispatch\u001b[0m\u001b[1;33m=\u001b[0m\u001b[0mpre_dispatch\u001b[0m\u001b[1;33m)\u001b[0m\u001b[1;33m(\u001b[0m\u001b[0mdelayed_list\u001b[0m\u001b[1;33m)\u001b[0m\u001b[1;33m\u001b[0m\u001b[1;33m\u001b[0m\u001b[0m\n\u001b[0m\u001b[0;32m    102\u001b[0m \u001b[1;33m\u001b[0m\u001b[0m\n\u001b[0;32m    103\u001b[0m     (test_measures_dicts,\n",
      "\u001b[1;32m~\\anaconda3\\lib\\site-packages\\joblib\\parallel.py\u001b[0m in \u001b[0;36m__call__\u001b[1;34m(self, iterable)\u001b[0m\n\u001b[0;32m   1002\u001b[0m             \u001b[1;31m# remaining jobs.\u001b[0m\u001b[1;33m\u001b[0m\u001b[1;33m\u001b[0m\u001b[1;33m\u001b[0m\u001b[0m\n\u001b[0;32m   1003\u001b[0m             \u001b[0mself\u001b[0m\u001b[1;33m.\u001b[0m\u001b[0m_iterating\u001b[0m \u001b[1;33m=\u001b[0m \u001b[1;32mFalse\u001b[0m\u001b[1;33m\u001b[0m\u001b[1;33m\u001b[0m\u001b[0m\n\u001b[1;32m-> 1004\u001b[1;33m             \u001b[1;32mif\u001b[0m \u001b[0mself\u001b[0m\u001b[1;33m.\u001b[0m\u001b[0mdispatch_one_batch\u001b[0m\u001b[1;33m(\u001b[0m\u001b[0miterator\u001b[0m\u001b[1;33m)\u001b[0m\u001b[1;33m:\u001b[0m\u001b[1;33m\u001b[0m\u001b[1;33m\u001b[0m\u001b[0m\n\u001b[0m\u001b[0;32m   1005\u001b[0m                 \u001b[0mself\u001b[0m\u001b[1;33m.\u001b[0m\u001b[0m_iterating\u001b[0m \u001b[1;33m=\u001b[0m \u001b[0mself\u001b[0m\u001b[1;33m.\u001b[0m\u001b[0m_original_iterator\u001b[0m \u001b[1;32mis\u001b[0m \u001b[1;32mnot\u001b[0m \u001b[1;32mNone\u001b[0m\u001b[1;33m\u001b[0m\u001b[1;33m\u001b[0m\u001b[0m\n\u001b[0;32m   1006\u001b[0m \u001b[1;33m\u001b[0m\u001b[0m\n",
      "\u001b[1;32m~\\anaconda3\\lib\\site-packages\\joblib\\parallel.py\u001b[0m in \u001b[0;36mdispatch_one_batch\u001b[1;34m(self, iterator)\u001b[0m\n\u001b[0;32m    806\u001b[0m                 \u001b[0mbig_batch_size\u001b[0m \u001b[1;33m=\u001b[0m \u001b[0mbatch_size\u001b[0m \u001b[1;33m*\u001b[0m \u001b[0mn_jobs\u001b[0m\u001b[1;33m\u001b[0m\u001b[1;33m\u001b[0m\u001b[0m\n\u001b[0;32m    807\u001b[0m \u001b[1;33m\u001b[0m\u001b[0m\n\u001b[1;32m--> 808\u001b[1;33m                 \u001b[0mislice\u001b[0m \u001b[1;33m=\u001b[0m \u001b[0mlist\u001b[0m\u001b[1;33m(\u001b[0m\u001b[0mitertools\u001b[0m\u001b[1;33m.\u001b[0m\u001b[0mislice\u001b[0m\u001b[1;33m(\u001b[0m\u001b[0miterator\u001b[0m\u001b[1;33m,\u001b[0m \u001b[0mbig_batch_size\u001b[0m\u001b[1;33m)\u001b[0m\u001b[1;33m)\u001b[0m\u001b[1;33m\u001b[0m\u001b[1;33m\u001b[0m\u001b[0m\n\u001b[0m\u001b[0;32m    809\u001b[0m                 \u001b[1;32mif\u001b[0m \u001b[0mlen\u001b[0m\u001b[1;33m(\u001b[0m\u001b[0mislice\u001b[0m\u001b[1;33m)\u001b[0m \u001b[1;33m==\u001b[0m \u001b[1;36m0\u001b[0m\u001b[1;33m:\u001b[0m\u001b[1;33m\u001b[0m\u001b[1;33m\u001b[0m\u001b[0m\n\u001b[0;32m    810\u001b[0m                     \u001b[1;32mreturn\u001b[0m \u001b[1;32mFalse\u001b[0m\u001b[1;33m\u001b[0m\u001b[1;33m\u001b[0m\u001b[0m\n",
      "\u001b[1;32m~\\anaconda3\\lib\\site-packages\\surprise\\model_selection\\validation.py\u001b[0m in \u001b[0;36m<genexpr>\u001b[1;34m(.0)\u001b[0m\n\u001b[0;32m     96\u001b[0m     \u001b[0mcv\u001b[0m \u001b[1;33m=\u001b[0m \u001b[0mget_cv\u001b[0m\u001b[1;33m(\u001b[0m\u001b[0mcv\u001b[0m\u001b[1;33m)\u001b[0m\u001b[1;33m\u001b[0m\u001b[1;33m\u001b[0m\u001b[0m\n\u001b[0;32m     97\u001b[0m \u001b[1;33m\u001b[0m\u001b[0m\n\u001b[1;32m---> 98\u001b[1;33m     delayed_list = (delayed(fit_and_score)(algo, trainset, testset, measures,\n\u001b[0m\u001b[0;32m     99\u001b[0m                                            return_train_measures)\n\u001b[0;32m    100\u001b[0m                     for (trainset, testset) in cv.split(data))\n",
      "\u001b[1;32m~\\anaconda3\\lib\\site-packages\\surprise\\model_selection\\split.py\u001b[0m in \u001b[0;36msplit\u001b[1;34m(self, data)\u001b[0m\n\u001b[0;32m     96\u001b[0m             raise ValueError('Incorrect value for n_splits={0}. '\n\u001b[0;32m     97\u001b[0m                              \u001b[1;34m'Must be >=2 and less than the number '\u001b[0m\u001b[1;33m\u001b[0m\u001b[1;33m\u001b[0m\u001b[0m\n\u001b[1;32m---> 98\u001b[1;33m                              'of ratings'.format(len(data.raw_ratings)))\n\u001b[0m\u001b[0;32m     99\u001b[0m \u001b[1;33m\u001b[0m\u001b[0m\n\u001b[0;32m    100\u001b[0m         \u001b[1;31m# We use indices to avoid shuffling the original data.raw_ratings list.\u001b[0m\u001b[1;33m\u001b[0m\u001b[1;33m\u001b[0m\u001b[1;33m\u001b[0m\u001b[0m\n",
      "\u001b[1;31mValueError\u001b[0m: Incorrect value for n_splits=100000. Must be >=2 and less than the number of ratings"
     ]
    }
   ],
   "source": [
    "#question 10 1-fold\n",
    "# SVD\n",
    "algo = SVD()\n",
    "cross_validate(algo, data, measures=['RMSE', 'MAE'], cv=1, verbose=True)\n",
    "\n",
    "# PMF\n",
    "algo = SVD(biased=False)\n",
    "cross_validate(algo, data, measures=['RMSE', 'MAE'], cv=1, verbose=True)\n",
    "\n",
    "# NMF\n",
    "algo = NMF()\n",
    "cross_validate(algo, data, measures=['RMSE', 'MAE'], cv=1, verbose=True)\n",
    "\n",
    "# User-based\n",
    "algo = KNNBasic(sim_options={\n",
    "        'name': 'pearson',\n",
    "        'user_based': True\n",
    "    })\n",
    "\n",
    "cross_validate(algo, data, measures=['RMSE', 'MAE'], cv=1, verbose=True)\n",
    "\n",
    "# Item-based\n",
    "algo = KNNBasic(sim_options={\n",
    "        'user_based': False})\n",
    "\n",
    "cross_validate(algo, data, measures=['RMSE', 'MAE'], cv=1, verbose=True)"
   ]
  },
  {
   "cell_type": "code",
   "execution_count": 44,
   "metadata": {},
   "outputs": [
    {
     "name": "stdout",
     "output_type": "stream",
     "text": [
      "Evaluating RMSE, MAE of algorithm SVD on 2 split(s).\n",
      "\n",
      "                  Fold 1  Fold 2  Mean    Std     \n",
      "RMSE (testset)    0.9569  0.9558  0.9563  0.0006  \n",
      "MAE (testset)     0.7559  0.7553  0.7556  0.0003  \n",
      "Fit time          2.20    2.21    2.21    0.01    \n",
      "Test time         0.30    0.29    0.30    0.00    \n",
      "Evaluating RMSE, MAE of algorithm SVD on 2 split(s).\n",
      "\n",
      "                  Fold 1  Fold 2  Mean    Std     \n",
      "RMSE (testset)    0.9980  1.0038  1.0009  0.0029  \n",
      "MAE (testset)     0.7882  0.7939  0.7910  0.0028  \n",
      "Fit time          2.17    2.21    2.19    0.02    \n",
      "Test time         0.25    0.26    0.26    0.00    \n",
      "Evaluating RMSE, MAE of algorithm NMF on 2 split(s).\n",
      "\n",
      "                  Fold 1  Fold 2  Mean    Std     \n",
      "RMSE (testset)    0.9959  0.9977  0.9968  0.0009  \n",
      "MAE (testset)     0.7836  0.7838  0.7837  0.0001  \n",
      "Fit time          2.40    2.43    2.41    0.01    \n",
      "Test time         0.25    0.30    0.27    0.02    \n",
      "Computing the pearson similarity matrix...\n",
      "Done computing similarity matrix.\n",
      "Computing the pearson similarity matrix...\n",
      "Done computing similarity matrix.\n",
      "Evaluating RMSE, MAE of algorithm KNNBasic on 2 split(s).\n",
      "\n",
      "                  Fold 1  Fold 2  Mean    Std     \n",
      "RMSE (testset)    1.0379  1.0363  1.0371  0.0008  \n",
      "MAE (testset)     0.8224  0.8220  0.8222  0.0002  \n",
      "Fit time          0.99    1.01    1.00    0.01    \n",
      "Test time         4.31    4.28    4.30    0.02    \n",
      "Computing the msd similarity matrix...\n",
      "Done computing similarity matrix.\n",
      "Computing the msd similarity matrix...\n",
      "Done computing similarity matrix.\n",
      "Evaluating RMSE, MAE of algorithm KNNBasic on 2 split(s).\n",
      "\n",
      "                  Fold 1  Fold 2  Mean    Std     \n",
      "RMSE (testset)    1.0073  1.0016  1.0044  0.0028  \n",
      "MAE (testset)     0.7995  0.7960  0.7977  0.0017  \n",
      "Fit time          0.22    0.22    0.22    0.00    \n",
      "Test time         4.99    5.04    5.02    0.03    \n"
     ]
    },
    {
     "data": {
      "text/plain": [
       "{'test_rmse': array([1.00728627, 1.00160562]),\n",
       " 'test_mae': array([0.79946524, 0.7960148 ]),\n",
       " 'fit_time': (0.22420406341552734, 0.2151963710784912),\n",
       " 'test_time': (4.989163875579834, 5.0432257652282715)}"
      ]
     },
     "execution_count": 44,
     "metadata": {},
     "output_type": "execute_result"
    }
   ],
   "source": [
    "#question 11 2-fold\n",
    "# SVD\n",
    "algo = SVD()\n",
    "cross_validate(algo, data, measures=['RMSE', 'MAE'], cv=2, verbose=True)\n",
    "\n",
    "# PMF\n",
    "algo = SVD(biased=False)\n",
    "cross_validate(algo, data, measures=['RMSE', 'MAE'], cv=2, verbose=True)\n",
    "\n",
    "# NMF\n",
    "algo = NMF()\n",
    "cross_validate(algo, data, measures=['RMSE', 'MAE'], cv=2, verbose=True)\n",
    "\n",
    "# User-based\n",
    "algo = KNNBasic(sim_options={\n",
    "        'name': 'pearson',\n",
    "        'user_based': True\n",
    "    })\n",
    "\n",
    "cross_validate(algo, data, measures=['RMSE', 'MAE'], cv=2, verbose=True)\n",
    "\n",
    "# Item-based\n",
    "algo = KNNBasic(sim_options={\n",
    "        'user_based': False})\n",
    "\n",
    "cross_validate(algo, data, measures=['RMSE', 'MAE'], cv=2, verbose=True)"
   ]
  },
  {
   "cell_type": "code",
   "execution_count": 46,
   "metadata": {},
   "outputs": [
    {
     "name": "stdout",
     "output_type": "stream",
     "text": [
      "Evaluating RMSE, MAE of algorithm SVD on 3 split(s).\n",
      "\n",
      "                  Fold 1  Fold 2  Fold 3  Mean    Std     \n",
      "RMSE (testset)    0.9499  0.9479  0.9429  0.9469  0.0029  \n",
      "MAE (testset)     0.7502  0.7487  0.7433  0.7474  0.0030  \n",
      "Fit time          2.96    2.93    2.97    2.95    0.01    \n",
      "Test time         0.21    0.22    0.21    0.21    0.00    \n",
      "Evaluating RMSE, MAE of algorithm SVD on 3 split(s).\n",
      "\n",
      "                  Fold 1  Fold 2  Fold 3  Mean    Std     \n",
      "RMSE (testset)    0.9651  0.9718  0.9646  0.9672  0.0033  \n",
      "MAE (testset)     0.7608  0.7652  0.7619  0.7626  0.0018  \n",
      "Fit time          2.96    2.96    2.93    2.95    0.01    \n",
      "Test time         0.19    0.19    0.19    0.19    0.00    \n",
      "Evaluating RMSE, MAE of algorithm NMF on 3 split(s).\n",
      "\n",
      "                  Fold 1  Fold 2  Fold 3  Mean    Std     \n",
      "RMSE (testset)    0.9702  0.9756  0.9712  0.9723  0.0024  \n",
      "MAE (testset)     0.7616  0.7661  0.7634  0.7637  0.0018  \n",
      "Fit time          3.14    3.23    3.23    3.20    0.04    \n",
      "Test time         0.19    0.19    0.14    0.17    0.02    \n",
      "Computing the pearson similarity matrix...\n",
      "Done computing similarity matrix.\n",
      "Computing the pearson similarity matrix...\n",
      "Done computing similarity matrix.\n",
      "Computing the pearson similarity matrix...\n",
      "Done computing similarity matrix.\n",
      "Evaluating RMSE, MAE of algorithm KNNBasic on 3 split(s).\n",
      "\n",
      "                  Fold 1  Fold 2  Fold 3  Mean    Std     \n",
      "RMSE (testset)    1.0228  1.0166  1.0228  1.0207  0.0029  \n",
      "MAE (testset)     0.8117  0.8066  0.8121  0.8102  0.0025  \n",
      "Fit time          1.35    1.38    1.35    1.36    0.01    \n",
      "Test time         3.60    3.62    3.64    3.62    0.02    \n",
      "Computing the msd similarity matrix...\n",
      "Done computing similarity matrix.\n",
      "Computing the msd similarity matrix...\n",
      "Done computing similarity matrix.\n",
      "Computing the msd similarity matrix...\n",
      "Done computing similarity matrix.\n",
      "Evaluating RMSE, MAE of algorithm KNNBasic on 3 split(s).\n",
      "\n",
      "                  Fold 1  Fold 2  Fold 3  Mean    Std     \n",
      "RMSE (testset)    0.9809  0.9860  0.9870  0.9846  0.0027  \n",
      "MAE (testset)     0.7771  0.7825  0.7805  0.7800  0.0022  \n",
      "Fit time          0.34    0.35    0.38    0.36    0.02    \n",
      "Test time         4.16    4.11    4.24    4.17    0.05    \n"
     ]
    },
    {
     "data": {
      "text/plain": [
       "{'test_rmse': array([0.98092868, 0.98599963, 0.98697817]),\n",
       " 'test_mae': array([0.77711043, 0.78253946, 0.78048602]),\n",
       " 'fit_time': (0.3423454761505127, 0.34627246856689453, 0.37903356552124023),\n",
       " 'test_time': (4.161899089813232, 4.111637592315674, 4.235208034515381)}"
      ]
     },
     "execution_count": 46,
     "metadata": {},
     "output_type": "execute_result"
    }
   ],
   "source": [
    "#question 12 3-fold\n",
    "# SVD\n",
    "algo = SVD()\n",
    "cross_validate(algo, data, measures=['RMSE', 'MAE'], cv=3, verbose=True)\n",
    "\n",
    "# PMF\n",
    "algo = SVD(biased=False)\n",
    "cross_validate(algo, data, measures=['RMSE', 'MAE'], cv=3, verbose=True)\n",
    "\n",
    "# NMF\n",
    "algo = NMF()\n",
    "cross_validate(algo, data, measures=['RMSE', 'MAE'], cv=3, verbose=True)\n",
    "\n",
    "# User-based\n",
    "algo = KNNBasic(sim_options={\n",
    "        'name': 'pearson',\n",
    "        'user_based': True\n",
    "    })\n",
    "\n",
    "cross_validate(algo, data, measures=['RMSE', 'MAE'], cv=3, verbose=True)\n",
    "\n",
    "# Item-based\n",
    "algo = KNNBasic(sim_options={\n",
    "        'user_based': False})\n",
    "\n",
    "cross_validate(algo, data, measures=['RMSE', 'MAE'], cv=3, verbose=True)"
   ]
  },
  {
   "cell_type": "code",
   "execution_count": null,
   "metadata": {},
   "outputs": [],
   "source": []
  },
  {
   "cell_type": "code",
   "execution_count": 40,
   "metadata": {},
   "outputs": [
    {
     "name": "stdout",
     "output_type": "stream",
     "text": [
      "Computing the pearson similarity matrix...\n",
      "Done computing similarity matrix.\n",
      "Computing the pearson similarity matrix...\n",
      "Done computing similarity matrix.\n",
      "Computing the pearson similarity matrix...\n",
      "Done computing similarity matrix.\n",
      "Evaluating RMSE, MAE of algorithm KNNBasic on 3 split(s).\n",
      "\n",
      "                  Fold 1  Fold 2  Fold 3  Mean    Std     \n",
      "RMSE (testset)    1.0175  1.0169  1.0175  1.0173  0.0003  \n",
      "MAE (testset)     0.8067  0.8077  0.8087  0.8077  0.0008  \n",
      "Fit time          1.35    1.36    1.35    1.35    0.01    \n",
      "Test time         3.55    3.63    3.67    3.62    0.05    \n"
     ]
    },
    {
     "data": {
      "text/plain": [
       "{'test_rmse': array([1.0174833 , 1.01693308, 1.0174882 ]),\n",
       " 'test_mae': array([0.80666671, 0.8077416 , 0.80871266]),\n",
       " 'fit_time': (1.3451955318450928, 1.3602359294891357, 1.3532352447509766),\n",
       " 'test_time': (3.5532052516937256, 3.6307685375213623, 3.6663968563079834)}"
      ]
     },
     "execution_count": 40,
     "metadata": {},
     "output_type": "execute_result"
    }
   ],
   "source": [
    "# question 14 part 1\n",
    "# IBCFMSD():\n",
    "\n",
    "algo = KNNBasic(#k=x\n",
    "        sim_options={\n",
    "        'name': 'pearson',\n",
    "        'user_based': True\n",
    "    })\n",
    "\n",
    "cross_validate(algo, data, measures=['RMSE', 'MAE'], cv=3, verbose=True)"
   ]
  },
  {
   "cell_type": "code",
   "execution_count": 41,
   "metadata": {},
   "outputs": [
    {
     "name": "stdout",
     "output_type": "stream",
     "text": [
      "Computing the msd similarity matrix...\n",
      "Done computing similarity matrix.\n",
      "Computing the msd similarity matrix...\n",
      "Done computing similarity matrix.\n",
      "Computing the msd similarity matrix...\n",
      "Done computing similarity matrix.\n",
      "Evaluating RMSE, MAE of algorithm KNNBasic on 3 split(s).\n",
      "\n",
      "                  Fold 1  Fold 2  Fold 3  Mean    Std     \n",
      "RMSE (testset)    0.9875  0.9855  0.9894  0.9875  0.0016  \n",
      "MAE (testset)     0.7784  0.7795  0.7844  0.7808  0.0026  \n",
      "Fit time          0.22    0.23    0.23    0.23    0.01    \n",
      "Test time         3.55    3.67    3.63    3.62    0.05    \n"
     ]
    },
    {
     "data": {
      "text/plain": [
       "{'test_rmse': array([0.98746423, 0.98550071, 0.98939633]),\n",
       " 'test_mae': array([0.77842246, 0.77946027, 0.78437076]),\n",
       " 'fit_time': (0.220200777053833, 0.22922992706298828, 0.23265838623046875),\n",
       " 'test_time': (3.5535812377929688, 3.6672816276550293, 3.6298375129699707)}"
      ]
     },
     "execution_count": 41,
     "metadata": {},
     "output_type": "execute_result"
    }
   ],
   "source": [
    "# question 14 part 2\n",
    "# UBCFMSD():\n",
    "algo = KNNBasic(#k=x,\n",
    "        sim_options={\n",
    "        'name': 'MSD',\n",
    "        'user_based': True\n",
    "    })\n",
    "\n",
    "cross_validate(algo, data, measures=['RMSE', 'MAE'], cv=3, verbose=True)"
   ]
  },
  {
   "cell_type": "code",
   "execution_count": 42,
   "metadata": {},
   "outputs": [
    {
     "name": "stdout",
     "output_type": "stream",
     "text": [
      "Computing the cosine similarity matrix...\n",
      "Done computing similarity matrix.\n",
      "Computing the cosine similarity matrix...\n",
      "Done computing similarity matrix.\n",
      "Computing the cosine similarity matrix...\n",
      "Done computing similarity matrix.\n",
      "Evaluating RMSE, MAE of algorithm KNNBasic on 3 split(s).\n",
      "\n",
      "                  Fold 1  Fold 2  Fold 3  Mean    Std     \n",
      "RMSE (testset)    1.0200  1.0184  1.0225  1.0203  0.0017  \n",
      "MAE (testset)     0.8073  0.8072  0.8092  0.8079  0.0009  \n",
      "Fit time          0.91    0.93    0.92    0.92    0.01    \n",
      "Test time         3.60    3.70    3.66    3.65    0.04    \n"
     ]
    },
    {
     "data": {
      "text/plain": [
       "{'test_rmse': array([1.01996806, 1.01837949, 1.02252947]),\n",
       " 'test_mae': array([0.80725469, 0.80720052, 0.80920741]),\n",
       " 'fit_time': (0.9083490371704102, 0.9308462142944336, 0.9208383560180664),\n",
       " 'test_time': (3.596403121948242, 3.7046396732330322, 3.663525342941284)}"
      ]
     },
     "execution_count": 42,
     "metadata": {},
     "output_type": "execute_result"
    }
   ],
   "source": [
    "# question 14 part 3\n",
    "# IBCFcosine():\n",
    "\n",
    "algo = KNNBasic(sim_options={\n",
    "        'name': 'cosine',\n",
    "        'user_based': True\n",
    "    })\n",
    "\n",
    "cross_validate(algo, data, measures=['RMSE', 'MAE'], cv=3, verbose=True)"
   ]
  },
  {
   "cell_type": "code",
   "execution_count": 39,
   "metadata": {},
   "outputs": [
    {
     "name": "stdout",
     "output_type": "stream",
     "text": [
      "Computing the cosine similarity matrix...\n",
      "Done computing similarity matrix.\n",
      "Computing the cosine similarity matrix...\n",
      "Done computing similarity matrix.\n",
      "Computing the cosine similarity matrix...\n",
      "Done computing similarity matrix.\n",
      "Evaluating RMSE, MAE of algorithm KNNBasic on 3 split(s).\n",
      "\n",
      "                  Fold 1  Fold 2  Fold 3  Mean    Std     \n",
      "RMSE (testset)    1.0128  1.0216  1.0274  1.0206  0.0060  \n",
      "MAE (testset)     0.8018  0.8083  0.8134  0.8078  0.0048  \n",
      "Fit time          0.92    0.95    0.96    0.94    0.02    \n",
      "Test time         3.59    3.70    3.60    3.63    0.05    \n"
     ]
    },
    {
     "data": {
      "text/plain": [
       "{'test_rmse': array([1.01280227, 1.02157094, 1.02739555]),\n",
       " 'test_mae': array([0.80177766, 0.808293  , 0.81339582]),\n",
       " 'fit_time': (0.9178340435028076, 0.9452085494995117, 0.9612720012664795),\n",
       " 'test_time': (3.58646297454834, 3.6998870372772217, 3.59855055809021)}"
      ]
     },
     "execution_count": 39,
     "metadata": {},
     "output_type": "execute_result"
    }
   ],
   "source": [
    "# UBCFcosine():\n",
    "\n",
    "algo = KNNBasic(sim_options={\n",
    "        'name': 'cosine',\n",
    "        'user_based': True\n",
    "    })\n",
    "\n",
    "cross_validate(algo, data, measures=['RMSE', 'MAE'], cv=3, verbose=True)"
   ]
  },
  {
   "cell_type": "code",
   "execution_count": null,
   "metadata": {},
   "outputs": [],
   "source": []
  },
  {
   "cell_type": "code",
   "execution_count": null,
   "metadata": {},
   "outputs": [],
   "source": []
  }
 ],
 "metadata": {
  "kernelspec": {
   "display_name": "Python 3",
   "language": "python",
   "name": "python3"
  },
  "language_info": {
   "codemirror_mode": {
    "name": "ipython",
    "version": 3
   },
   "file_extension": ".py",
   "mimetype": "text/x-python",
   "name": "python",
   "nbconvert_exporter": "python",
   "pygments_lexer": "ipython3",
   "version": "3.7.6"
  }
 },
 "nbformat": 4,
 "nbformat_minor": 4
}
